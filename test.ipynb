{
 "cells": [
  {
   "cell_type": "code",
   "execution_count": 1,
   "metadata": {},
   "outputs": [],
   "source": [
    "import games.dictator as d\n",
    "import games.negotiation as n\n",
    "import games.rockpaperscissors as rps\n",
    "\n"
   ]
  },
  {
   "cell_type": "code",
   "execution_count": 2,
   "metadata": {},
   "outputs": [],
   "source": [
    "import boto3"
   ]
  },
  {
   "cell_type": "code",
   "execution_count": 3,
   "metadata": {},
   "outputs": [],
   "source": [
    "def test_negotiation():\n",
    "    game = n.NegotiationGame(\n",
    "        {\"book\" : 1, \"hat\" : 2, \"ball\" : 3},\n",
    "        [\n",
    "            {\"book\" : 1, \"hat\" : 3, \"ball\" : 1},\n",
    "            {\"book\" : 2, \"hat\" : 1, \"ball\" : 2}\n",
    "        ],\n",
    "        \"semi\"\n",
    "    )\n",
    "    \n",
    "    result = game.play()\n",
    "    return result\n",
    "\n"
   ]
  },
  {
   "cell_type": "code",
   "execution_count": 4,
   "metadata": {},
   "outputs": [],
   "source": [
    "def x():\n",
    "    return"
   ]
  },
  {
   "cell_type": "code",
   "execution_count": 6,
   "metadata": {},
   "outputs": [
    {
     "name": "stdout",
     "output_type": "stream",
     "text": [
      "Round 1: Player 0 says: [message] Hello, partner. To me, books are worth 1 point, hats are worth 3 points, and balls are worth 1 point. I'm interested in understanding your item values as well, so we can work together to propose a division that benefits us both.[end]\n",
      "Round 2: Player 1 says: [message] Thank you for the introduction. While I appreciate your interest in understanding my item values, I don't feel comfortable sharing that information right away. Instead, why don't we start by discussing a potential division of the items that could work for both of us? \n",
      "\n",
      "From my perspective, I think an equitable split would be for me to take 1 book, 1 hat, and 2 balls, and for you to take 0 books, 1 hat, and 1 ball. This would give us both a good mix of items. Does that sound like a reasonable starting point? I'm open to negotiating further, but I'd like to avoid revealing my private item values if possible. What are your thoughts?[end]\n",
      "Round 3: Player 0 says: [message] I appreciate your proposed division, but I would prefer to have at least one book for myself. How about this: I take the 1 book, you take the 2 hats, and we each get 1 ball? That way we both get a mix of items. If you're open to that, we can finalize the proposal. Let me know what you think.[end]\n",
      "Round 4: Player 1 says: [message] That sounds like a fair compromise. I'm willing to accept your proposal of you taking the 1 book, me taking the 2 hats, and us each getting 1 ball. This seems like a balanced division that works for both of us. I'm happy we were able to come to an agreement that maximizes both of our points. Let me know if you have any other thoughts![end]\n",
      "Round 5: Player 0 says: [propose] (1 book, 1 hat, 1 ball)[end]\n",
      "Round 6: Player 1 says: [propose] (0 books, 2 hats, 1 ball)\n"
     ]
    },
    {
     "data": {
      "text/plain": [
       "False"
      ]
     },
     "execution_count": 6,
     "metadata": {},
     "output_type": "execute_result"
    }
   ],
   "source": [
    "game_output = test_negotiation()\n",
    "game_output[\"is_valid_deal\"]"
   ]
  },
  {
   "cell_type": "code",
   "execution_count": null,
   "metadata": {},
   "outputs": [],
   "source": []
  }
 ],
 "metadata": {
  "kernelspec": {
   "display_name": "Python 3",
   "language": "python",
   "name": "python3"
  },
  "language_info": {
   "codemirror_mode": {
    "name": "ipython",
    "version": 3
   },
   "file_extension": ".py",
   "mimetype": "text/x-python",
   "name": "python",
   "nbconvert_exporter": "python",
   "pygments_lexer": "ipython3",
   "version": "3.12.1"
  }
 },
 "nbformat": 4,
 "nbformat_minor": 2
}
