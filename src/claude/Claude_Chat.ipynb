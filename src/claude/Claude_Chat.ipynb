{
  "cells": [
    {
      "cell_type": "code",
      "execution_count": 2,
      "metadata": {
        "colab": {
          "base_uri": "https://localhost:8080/"
        },
        "id": "oir872c8QZE7",
        "outputId": "2c12cba7-ce2a-410d-a186-e64a95dfa962"
      },
      "outputs": [
        {
          "name": "stdout",
          "output_type": "stream",
          "text": [
            "Defaulting to user installation because normal site-packages is not writeable\n",
            "Requirement already satisfied: boto3 in c:\\users\\dimig\\appdata\\roaming\\python\\python312\\site-packages (1.35.81)\n",
            "Requirement already satisfied: botocore<1.36.0,>=1.35.81 in c:\\users\\dimig\\appdata\\roaming\\python\\python312\\site-packages (from boto3) (1.35.81)\n",
            "Requirement already satisfied: jmespath<2.0.0,>=0.7.1 in c:\\users\\dimig\\appdata\\roaming\\python\\python312\\site-packages (from boto3) (1.0.1)\n",
            "Requirement already satisfied: s3transfer<0.11.0,>=0.10.0 in c:\\users\\dimig\\appdata\\roaming\\python\\python312\\site-packages (from boto3) (0.10.4)\n",
            "Requirement already satisfied: python-dateutil<3.0.0,>=2.1 in c:\\users\\dimig\\appdata\\roaming\\python\\python312\\site-packages (from botocore<1.36.0,>=1.35.81->boto3) (2.8.2)\n",
            "Requirement already satisfied: urllib3!=2.2.0,<3,>=1.25.4 in c:\\users\\dimig\\appdata\\roaming\\python\\python312\\site-packages (from botocore<1.36.0,>=1.35.81->boto3) (2.0.7)\n",
            "Requirement already satisfied: six>=1.5 in c:\\users\\dimig\\appdata\\roaming\\python\\python312\\site-packages (from python-dateutil<3.0.0,>=2.1->botocore<1.36.0,>=1.35.81->boto3) (1.16.0)\n",
            "Note: you may need to restart the kernel to use updated packages.\n",
            "Defaulting to user installation because normal site-packages is not writeable\n",
            "Requirement already satisfied: python-dotenv in c:\\users\\dimig\\appdata\\roaming\\python\\python312\\site-packages (1.0.1)\n",
            "Note: you may need to restart the kernel to use updated packages.\n"
          ]
        }
      ],
      "source": [
        "%pip install boto3\n",
        "%pip install python-dotenv"
      ]
    },
    {
      "cell_type": "code",
      "execution_count": 3,
      "metadata": {
        "id": "uO5zKAK7QWER"
      },
      "outputs": [],
      "source": [
        "import os\n",
        "from dotenv import load_dotenv\n",
        "import boto3\n",
        "import json\n",
        "import base64\n"
      ]
    },
    {
      "cell_type": "code",
      "execution_count": 5,
      "metadata": {},
      "outputs": [],
      "source": [
        "\n",
        "\n",
        "class Chat:\n",
        "\n",
        "    def __init__(self, model_id, bedrock_runtime_client):\n",
        "        self.model_id = model_id\n",
        "        self.bedrock_runtime_client = bedrock_runtime_client\n",
        "        self.payload = {\n",
        "            \"messages\": [],\n",
        "            \"max_tokens\": 10000,\n",
        "            \"anthropic_version\": \"bedrock-2023-05-31\"\n",
        "        }\n",
        "\n",
        "\n",
        "\n",
        "    def add_user_message(self, message):\n",
        "        self.payload[\"messages\"].append({\n",
        "                                        \"role\": \"user\",\n",
        "                                        \"content\": [\n",
        "                                            {\n",
        "                                                \"type\": \"text\",\n",
        "                                                \"text\": message\n",
        "                                            }\n",
        "                                        ]\n",
        "                                    })\n",
        "\n",
        "    def add_user_message_image(self, message, encoded_image):\n",
        "        self.payload[\"messages\"].append({\n",
        "                                        \"role\": \"user\",\n",
        "                                        \"content\": [\n",
        "                                                    {\n",
        "                                                        \"type\": \"image\",\n",
        "                                                        \"source\": {\n",
        "                                                            \"type\": \"base64\",\n",
        "                                                            \"media_type\": \"image/jpeg\",\n",
        "                                                            \"data\": encoded_image,\n",
        "                                                            # \"temperature\": 1,\n",
        "                                                        }\n",
        "                                                    },\n",
        "                                                    {\n",
        "                                                        \"type\": \"text\",\n",
        "                                                        \"text\": message,\n",
        "                                                        # \"temperature\": 1,\n",
        "                                                    }\n",
        "                                                ]\n",
        "                                    })\n",
        "\n",
        "\n",
        "    def generate(self):\n",
        "        response = self.bedrock_runtime_client.invoke_model(\n",
        "            modelId=self.model_id,\n",
        "            contentType=\"application/json\",\n",
        "            body=json.dumps(self.payload)\n",
        "        )\n",
        "\n",
        "        # now we need to read the response. It comes back as a stream of bytes so if we want to display the response in one go we need to read the full stream first\n",
        "        # then convert it to a string as json and load it as a dictionary so we can access the field containing the content without all the metadata noise\n",
        "        output_binary = response[\"body\"].read()\n",
        "        output_json = json.loads(output_binary)\n",
        "        output = output_json[\"content\"][0][\"text\"]\n",
        "\n",
        "\n",
        "        self.payload[\"messages\"].append(\n",
        "            {\n",
        "                \"role\": \"assistant\",\n",
        "                \"content\": [\n",
        "                    {\n",
        "                        \"type\": \"text\",\n",
        "                        \"text\": output\n",
        "                    }\n",
        "                ]\n",
        "            }\n",
        "        )\n",
        "\n",
        "        return output\n",
        "\n",
        "\n",
        "def load_image(path):\n",
        "    with open(path, \"rb\") as f:\n",
        "        return base64.b64encode(f.read()).decode(\"utf-8\")"
      ]
    },
    {
      "cell_type": "code",
      "execution_count": 6,
      "metadata": {},
      "outputs": [],
      "source": [
        "# Load environment variables from .env file (they are loaded as strings)\n",
        "load_dotenv()\n",
        "\n",
        "# Load keys from environment variables\n",
        "AWS_ACCESS_KEY_ID = os.getenv(\"AWS_ACCESS_KEY_ID\")\n",
        "AWS_SECRET_ACCESS_KEY = os.getenv(\"AWS_SECRET_ACCESS_KEY\")\n",
        "\n",
        "if not AWS_ACCESS_KEY_ID or not AWS_SECRET_ACCESS_KEY:\n",
        "    raise ValueError(\"Please set the AWS_ACCESS_KEY_ID and AWS_SECRET_ACCESS_KEY environment variables\")"
      ]
    },
    {
      "cell_type": "code",
      "execution_count": 8,
      "metadata": {
        "id": "i-r5fx_aQadJ"
      },
      "outputs": [],
      "source": [
        "# Define the aws runtime and model\n",
        "\n",
        "bedrock_runtime_client = boto3.client(\n",
        "    'bedrock-runtime',\n",
        "    aws_access_key_id=AWS_ACCESS_KEY_ID,\n",
        "    aws_secret_access_key=AWS_SECRET_ACCESS_KEY,\n",
        "    region_name=\"us-west-2\"\n",
        ")\n",
        "\n",
        "model_id = \"anthropic.claude-3-haiku-20240307-v1:0\""
      ]
    },
    {
      "cell_type": "code",
      "execution_count": null,
      "metadata": {
        "colab": {
          "base_uri": "https://localhost:8080/",
          "height": 100
        },
        "id": "tuL9zh-bQmWm",
        "outputId": "932a6b06-ef77-4d58-abe0-c674a6e8ff79"
      },
      "outputs": [],
      "source": [
        "prompt = \"Give me a description of the image.\"\n",
        "image_path = \"content/istockphoto-530427077-612x612.jpg\"\n",
        "chat = Chat(model_id, bedrock_runtime_client)\n",
        "\n",
        "chat.add_user_message_image(prompt, load_image(image_path))\n",
        "chat.generate()"
      ]
    },
    {
      "cell_type": "code",
      "execution_count": null,
      "metadata": {
        "colab": {
          "base_uri": "https://localhost:8080/",
          "height": 34
        },
        "id": "hWaSwdMwRR5l",
        "outputId": "caf95d5d-04c6-4008-9ce7-4629451fcb45"
      },
      "outputs": [],
      "source": [
        "chat.add_user_message(\"Give me a list of objects.\")\n",
        "chat.generate()"
      ]
    }
  ],
  "metadata": {
    "colab": {
      "provenance": []
    },
    "kernelspec": {
      "display_name": "Python 3",
      "name": "python3"
    },
    "language_info": {
      "codemirror_mode": {
        "name": "ipython",
        "version": 3
      },
      "file_extension": ".py",
      "mimetype": "text/x-python",
      "name": "python",
      "nbconvert_exporter": "python",
      "pygments_lexer": "ipython3",
      "version": "3.12.1"
    }
  },
  "nbformat": 4,
  "nbformat_minor": 0
}
